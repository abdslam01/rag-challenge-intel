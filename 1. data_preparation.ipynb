{
 "cells": [
  {
   "cell_type": "code",
   "execution_count": 1,
   "id": "b52f7bb0-fe3c-4b2e-ae11-0d9b72ab6c38",
   "metadata": {},
   "outputs": [],
   "source": [
    "%%capture\n",
    "!pip install fasttext"
   ]
  },
  {
   "cell_type": "code",
   "execution_count": 4,
   "id": "1d010a8e-04da-4bf6-87ea-ffc63251e67d",
   "metadata": {},
   "outputs": [
    {
     "data": {
      "text/html": [
       "<div>\n",
       "<style scoped>\n",
       "    .dataframe tbody tr th:only-of-type {\n",
       "        vertical-align: middle;\n",
       "    }\n",
       "\n",
       "    .dataframe tbody tr th {\n",
       "        vertical-align: top;\n",
       "    }\n",
       "\n",
       "    .dataframe thead th {\n",
       "        text-align: right;\n",
       "    }\n",
       "</style>\n",
       "<table border=\"1\" class=\"dataframe\">\n",
       "  <thead>\n",
       "    <tr style=\"text-align: right;\">\n",
       "      <th></th>\n",
       "      <th>story_id</th>\n",
       "      <th>title</th>\n",
       "      <th>url</th>\n",
       "      <th>content</th>\n",
       "      <th>language</th>\n",
       "      <th>country</th>\n",
       "      <th>tag</th>\n",
       "    </tr>\n",
       "  </thead>\n",
       "  <tbody>\n",
       "    <tr>\n",
       "      <th>0</th>\n",
       "      <td>89963a16-5d35-4f59-8014-a4003a4ca840</td>\n",
       "      <td>THE TIGER, THE RAM, AND THE JACKAL</td>\n",
       "      <td>https://mlpp.pressbooks.pub/introphil/chapter/...</td>\n",
       "      <td>Tiger  was returning home from hunting on one ...</td>\n",
       "      <td>English</td>\n",
       "      <td>Africa</td>\n",
       "      <td>rania</td>\n",
       "    </tr>\n",
       "  </tbody>\n",
       "</table>\n",
       "</div>"
      ],
      "text/plain": [
       "                               story_id                               title  \\\n",
       "0  89963a16-5d35-4f59-8014-a4003a4ca840  THE TIGER, THE RAM, AND THE JACKAL   \n",
       "\n",
       "                                                 url  \\\n",
       "0  https://mlpp.pressbooks.pub/introphil/chapter/...   \n",
       "\n",
       "                                             content language country    tag  \n",
       "0  Tiger  was returning home from hunting on one ...  English  Africa  rania  "
      ]
     },
     "execution_count": 4,
     "metadata": {},
     "output_type": "execute_result"
    }
   ],
   "source": [
    "import pandas as pd\n",
    "df = pd.read_csv(\"african_tales.csv\")\n",
    "df.head(1)"
   ]
  },
  {
   "cell_type": "code",
   "execution_count": 4,
   "id": "d9220cf3-4b68-418e-b4a2-0aeee4b3f202",
   "metadata": {},
   "outputs": [
    {
     "data": {
      "application/vnd.jupyter.widget-view+json": {
       "model_id": "afce87d7a5d04ab4a88d89513cba573e",
       "version_major": 2,
       "version_minor": 0
      },
      "text/plain": [
       "Loading checkpoint shards:   0%|          | 0/3 [00:00<?, ?it/s]"
      ]
     },
     "metadata": {},
     "output_type": "display_data"
    },
    {
     "name": "stderr",
     "output_type": "stream",
     "text": [
      "100%|██████████| 144/144 [35:51<00:00, 14.94s/it]\n"
     ]
    }
   ],
   "source": [
    "from tqdm import tqdm\n",
    "tqdm.pandas()\n",
    "\n",
    "pipe_nllb = pipeline(\"translation\", device=\"cpu\", model=\"facebook/nllb-200-3.3B\", src_lang=\"fra_Latn\", tgt_lang=\"eng_Latn\")\n",
    "\n",
    "def translation_fr_en(text):\n",
    "    return pipe_nllb(text)[0][\"translation_text\"]\n",
    "\n",
    "def tales_translation(content, lang):\n",
    "    if lang == \"English\":\n",
    "        return content\n",
    "    else:\n",
    "        # return translation_fr_en(content)\n",
    "        lst = content.split(\"\\n\")\n",
    "        for i in range(len(lst)):\n",
    "            lst[i] = translation_fr_en(lst[i])\n",
    "        lst = \"\\n\".join(lst)\n",
    "        return lst\n",
    "\n",
    "df[\"content_en\"] = df.progress_apply(lambda x : tales_translation(x.content, x.language), axis=1)\n"
   ]
  },
  {
   "cell_type": "code",
   "execution_count": 8,
   "id": "d5f8e381-362f-4faf-a29f-d60cd34d8283",
   "metadata": {},
   "outputs": [],
   "source": [
    "df.to_csv(\"africa_tales_en_nllb.csv\", index=False)"
   ]
  },
  {
   "cell_type": "code",
   "execution_count": 1,
   "id": "506f012e-9667-4beb-8e8b-21c7091b7d1f",
   "metadata": {},
   "outputs": [],
   "source": [
    "import pandas as pd\n",
    "from datasets import Dataset\n",
    "\n",
    "df = pd.read_csv(\"africa_tales_en_nllb.csv\")\n",
    "\n",
    "i = 0\n",
    "data = []\n",
    "for row in df.to_dict(orient=\"records\"):\n",
    "    if row[\"title\"] != \"\":\n",
    "        description = f\"A tale from {row['country']} folklore titled {row['title']}\"\n",
    "    else:\n",
    "        description = f\"A tale from {row['country']} folklore\"\n",
    "\n",
    "    dialogue = row[\"content_en\"]\n",
    "    dic = {\"index\" : i, \"id\" : i+1, \"description\" : description, \"dialogue\" : dialogue}\n",
    "    i = i+1\n",
    "    data.append(dic)\n",
    "\n",
    "df = pd.DataFrame(data)\n",
    "data = Dataset.from_pandas(df)"
   ]
  },
  {
   "cell_type": "code",
   "execution_count": 2,
   "id": "0bd861d6-4f88-4db5-9395-705f4a3d5fd1",
   "metadata": {},
   "outputs": [
    {
     "name": "stdout",
     "output_type": "stream",
     "text": [
      "The token has not been saved to the git credentials helper. Pass `add_to_git_credential=True` in this function directly or `--add-to-git-credential` if using via `huggingface-cli` if you want to set the git credential as well.\n",
      "Token is valid (permission: write).\n",
      "Your token has been saved to /home/ue75752ba5c0c7e43e2aa578129767a6/.cache/huggingface/token\n",
      "Login successful\n"
     ]
    }
   ],
   "source": [
    "from huggingface_hub import login\n",
    "access_token = \"<your_token>\"\n",
    "login(token=access_token)"
   ]
  },
  {
   "cell_type": "code",
   "execution_count": 3,
   "id": "106b8736-f28c-4939-ae60-15a38c4e8526",
   "metadata": {},
   "outputs": [
    {
     "data": {
      "application/vnd.jupyter.widget-view+json": {
       "model_id": "d62a64b011784bc9ba5b0ef14e6a076e",
       "version_major": 2,
       "version_minor": 0
      },
      "text/plain": [
       "Pushing dataset shards to the dataset hub:   0%|          | 0/1 [00:00<?, ?it/s]"
      ]
     },
     "metadata": {},
     "output_type": "display_data"
    },
    {
     "data": {
      "application/vnd.jupyter.widget-view+json": {
       "model_id": "07386d24750241ad893e861c1d07e965",
       "version_major": 2,
       "version_minor": 0
      },
      "text/plain": [
       "Creating parquet from Arrow format:   0%|          | 0/1 [00:00<?, ?ba/s]"
      ]
     },
     "metadata": {},
     "output_type": "display_data"
    },
    {
     "data": {
      "application/vnd.jupyter.widget-view+json": {
       "model_id": "37311786aa804d6d95617b47b5e624f7",
       "version_major": 2,
       "version_minor": 0
      },
      "text/plain": [
       "Deleting unused files from dataset repository:   0%|          | 0/1 [00:00<?, ?it/s]"
      ]
     },
     "metadata": {},
     "output_type": "display_data"
    },
    {
     "data": {
      "application/vnd.jupyter.widget-view+json": {
       "model_id": "801806d97b684f3088fee74c56dc44ee",
       "version_major": 2,
       "version_minor": 0
      },
      "text/plain": [
       "Downloading metadata:   0%|          | 0.00/544 [00:00<?, ?B/s]"
      ]
     },
     "metadata": {},
     "output_type": "display_data"
    }
   ],
   "source": [
    "data.push_to_hub(\"<the_model_path>\")"
   ]
  },
  {
   "cell_type": "code",
   "execution_count": null,
   "id": "e1a33969-08e7-4226-930a-c154c704e1ca",
   "metadata": {},
   "outputs": [],
   "source": []
  }
 ],
 "metadata": {
  "kernelspec": {
   "display_name": "Base",
   "language": "python",
   "name": "base"
  },
  "language_info": {
   "codemirror_mode": {
    "name": "ipython",
    "version": 3
   },
   "file_extension": ".py",
   "mimetype": "text/x-python",
   "name": "python",
   "nbconvert_exporter": "python",
   "pygments_lexer": "ipython3",
   "version": "3.9.18"
  }
 },
 "nbformat": 4,
 "nbformat_minor": 5
}
